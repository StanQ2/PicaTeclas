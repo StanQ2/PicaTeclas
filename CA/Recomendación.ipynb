{
 "cells": [
  {
   "cell_type": "code",
   "execution_count": 127,
   "metadata": {},
   "outputs": [],
   "source": [
    "import numpy as pd\n",
    "import pandas as pd\n",
    "import matplotlib.pyplot as plt\n",
    "%matplotlib inline\n",
    "import time\n",
    "import seaborn as sns\n",
    "import re\n",
    "import math\n",
    "sns.set_style(\"whitegrid\")\n",
    "#sns.set(style=\"darkgrid\")\n",
    "sns.set_palette(\"tab10\")\n",
    "from IPython.core.interactiveshell import InteractiveShell\n",
    "InteractiveShell.ast_node_interactivity = \"all\"\n",
    "import plotly.express as px\n",
    "import plotly.graph_objs as go\n",
    "from plotly.offline import init_notebook_mode, iplot\n",
    "import datetime as dt\n",
    "params = {'legend.fontsize':15, \n",
    "          'legend.title_fontsize':16,\n",
    "          'figure.figsize':(15,5),\n",
    "          'axes.labelsize': 18,\n",
    "          'axes.titlesize':20,\n",
    "          'xtick.labelsize':18,\n",
    "          'ytick.labelsize':18}\n",
    "plt.rcParams.update(params)\n",
    "img_fmt = 'svg'\n",
    "import warnings\n",
    "warnings.filterwarnings(\"ignore\")"
   ]
  },
  {
   "cell_type": "code",
   "execution_count": 128,
   "metadata": {},
   "outputs": [
    {
     "data": {
      "text/html": [
       "<div>\n",
       "<style scoped>\n",
       "    .dataframe tbody tr th:only-of-type {\n",
       "        vertical-align: middle;\n",
       "    }\n",
       "\n",
       "    .dataframe tbody tr th {\n",
       "        vertical-align: top;\n",
       "    }\n",
       "\n",
       "    .dataframe thead th {\n",
       "        text-align: right;\n",
       "    }\n",
       "</style>\n",
       "<table border=\"1\" class=\"dataframe\">\n",
       "  <thead>\n",
       "    <tr style=\"text-align: right;\">\n",
       "      <th></th>\n",
       "      <th>id</th>\n",
       "      <th>name</th>\n",
       "      <th>released</th>\n",
       "      <th>rating</th>\n",
       "      <th>platforms</th>\n",
       "      <th>developers</th>\n",
       "      <th>genres</th>\n",
       "      <th>esrb_rating</th>\n",
       "    </tr>\n",
       "  </thead>\n",
       "  <tbody>\n",
       "    <tr>\n",
       "      <th>0</th>\n",
       "      <td>388309</td>\n",
       "      <td>Diablo IV</td>\n",
       "      <td>NaN</td>\n",
       "      <td>5.00</td>\n",
       "      <td>Xbox One||PlayStation 4||PC</td>\n",
       "      <td>Activision Blizzard</td>\n",
       "      <td>Action||RPG</td>\n",
       "      <td>NaN</td>\n",
       "    </tr>\n",
       "    <tr>\n",
       "      <th>1</th>\n",
       "      <td>132</td>\n",
       "      <td>The World Ends with You: Solo Remix</td>\n",
       "      <td>8/27/2012</td>\n",
       "      <td>4.86</td>\n",
       "      <td>iOS</td>\n",
       "      <td>Square Enix</td>\n",
       "      <td>Action||RPG</td>\n",
       "      <td>Everyone 10+</td>\n",
       "    </tr>\n",
       "    <tr>\n",
       "      <th>2</th>\n",
       "      <td>229144</td>\n",
       "      <td>Hide Online</td>\n",
       "      <td>NaN</td>\n",
       "      <td>4.83</td>\n",
       "      <td>Android</td>\n",
       "      <td>HitRock Games</td>\n",
       "      <td>Action</td>\n",
       "      <td>NaN</td>\n",
       "    </tr>\n",
       "    <tr>\n",
       "      <th>3</th>\n",
       "      <td>257281</td>\n",
       "      <td>Kara no Shojo</td>\n",
       "      <td>10/22/2018</td>\n",
       "      <td>4.83</td>\n",
       "      <td>PC</td>\n",
       "      <td>Innocent Grey</td>\n",
       "      <td>Adventure</td>\n",
       "      <td>Adults Only</td>\n",
       "    </tr>\n",
       "    <tr>\n",
       "      <th>4</th>\n",
       "      <td>53135</td>\n",
       "      <td>Astro Boy: Omega Factor</td>\n",
       "      <td>12/18/2003</td>\n",
       "      <td>4.83</td>\n",
       "      <td>Game Boy Advance</td>\n",
       "      <td>Hitmaker||Treasure</td>\n",
       "      <td>NaN</td>\n",
       "      <td>NaN</td>\n",
       "    </tr>\n",
       "  </tbody>\n",
       "</table>\n",
       "</div>"
      ],
      "text/plain": [
       "       id                                 name    released  rating  \\\n",
       "0  388309                            Diablo IV         NaN    5.00   \n",
       "1     132  The World Ends with You: Solo Remix   8/27/2012    4.86   \n",
       "2  229144                          Hide Online         NaN    4.83   \n",
       "3  257281                        Kara no Shojo  10/22/2018    4.83   \n",
       "4   53135              Astro Boy: Omega Factor  12/18/2003    4.83   \n",
       "\n",
       "                     platforms           developers       genres   esrb_rating  \n",
       "0  Xbox One||PlayStation 4||PC  Activision Blizzard  Action||RPG           NaN  \n",
       "1                          iOS          Square Enix  Action||RPG  Everyone 10+  \n",
       "2                      Android        HitRock Games       Action           NaN  \n",
       "3                           PC        Innocent Grey    Adventure   Adults Only  \n",
       "4             Game Boy Advance   Hitmaker||Treasure          NaN           NaN  "
      ]
     },
     "execution_count": 128,
     "metadata": {},
     "output_type": "execute_result"
    }
   ],
   "source": [
    "juegos = pd.read_csv('data.csv')\n",
    "juegos.head()"
   ]
  },
  {
   "cell_type": "code",
   "execution_count": 129,
   "metadata": {},
   "outputs": [
    {
     "name": "stdout",
     "output_type": "stream",
     "text": [
      "<class 'pandas.core.frame.DataFrame'>\n",
      "RangeIndex: 1499 entries, 0 to 1498\n",
      "Data columns (total 8 columns):\n",
      " #   Column       Non-Null Count  Dtype  \n",
      "---  ------       --------------  -----  \n",
      " 0   id           1499 non-null   int64  \n",
      " 1   name         1499 non-null   object \n",
      " 2   released     1473 non-null   object \n",
      " 3   rating       1499 non-null   float64\n",
      " 4   platforms    1499 non-null   object \n",
      " 5   developers   1425 non-null   object \n",
      " 6   genres       1383 non-null   object \n",
      " 7   esrb_rating  642 non-null    object \n",
      "dtypes: float64(1), int64(1), object(6)\n",
      "memory usage: 93.8+ KB\n"
     ]
    }
   ],
   "source": [
    "juegos.info()"
   ]
  },
  {
   "cell_type": "code",
   "execution_count": 130,
   "metadata": {},
   "outputs": [
    {
     "data": {
      "text/plain": [
       "id               0\n",
       "name             0\n",
       "released        26\n",
       "rating           0\n",
       "platforms        0\n",
       "developers      74\n",
       "genres         116\n",
       "esrb_rating    857\n",
       "dtype: int64"
      ]
     },
     "execution_count": 130,
     "metadata": {},
     "output_type": "execute_result"
    }
   ],
   "source": [
    "juegos.isna().sum()"
   ]
  },
  {
   "cell_type": "code",
   "execution_count": 131,
   "metadata": {},
   "outputs": [],
   "source": [
    "juegos['released'] = juegos['released'].fillna(juegos['released'].mode()[0])\n",
    "juegos['developers'] = juegos['developers'].fillna(juegos['developers'].mode()[0])\n",
    "juegos['genres'] = juegos['genres'].fillna(juegos['genres'].mode()[0])\n",
    "juegos['esrb_rating'] = juegos['esrb_rating'].fillna(juegos['esrb_rating'].mode()[0])"
   ]
  },
  {
   "cell_type": "code",
   "execution_count": 132,
   "metadata": {},
   "outputs": [
    {
     "data": {
      "text/plain": [
       "id             0\n",
       "name           0\n",
       "released       0\n",
       "rating         0\n",
       "platforms      0\n",
       "developers     0\n",
       "genres         0\n",
       "esrb_rating    0\n",
       "dtype: int64"
      ]
     },
     "execution_count": 132,
     "metadata": {},
     "output_type": "execute_result"
    }
   ],
   "source": [
    "juegos.isna().sum()"
   ]
  },
  {
   "cell_type": "code",
   "execution_count": 133,
   "metadata": {},
   "outputs": [
    {
     "name": "stdout",
     "output_type": "stream",
     "text": [
      "<class 'pandas.core.frame.DataFrame'>\n",
      "RangeIndex: 1499 entries, 0 to 1498\n",
      "Data columns (total 8 columns):\n",
      " #   Column       Non-Null Count  Dtype  \n",
      "---  ------       --------------  -----  \n",
      " 0   id           1499 non-null   int64  \n",
      " 1   name         1499 non-null   object \n",
      " 2   released     1499 non-null   object \n",
      " 3   rating       1499 non-null   float64\n",
      " 4   platforms    1499 non-null   object \n",
      " 5   developers   1499 non-null   object \n",
      " 6   genres       1499 non-null   object \n",
      " 7   esrb_rating  1499 non-null   object \n",
      "dtypes: float64(1), int64(1), object(6)\n",
      "memory usage: 93.8+ KB\n"
     ]
    }
   ],
   "source": [
    "juegos.info()"
   ]
  },
  {
   "cell_type": "code",
   "execution_count": 134,
   "metadata": {},
   "outputs": [
    {
     "data": {
      "text/plain": [
       "0    Action||RPG\n",
       "1    Action||RPG\n",
       "2         Action\n",
       "3      Adventure\n",
       "4       Strategy\n",
       "Name: genres, dtype: object"
      ]
     },
     "execution_count": 134,
     "metadata": {},
     "output_type": "execute_result"
    }
   ],
   "source": [
    "juegos['genres'] = juegos['genres'].apply((lambda x: x.split(\",\")[0]))\n",
    "juegos['genres'].head()"
   ]
  },
  {
   "cell_type": "code",
   "execution_count": 135,
   "metadata": {},
   "outputs": [
    {
     "data": {
      "text/html": [
       "<div>\n",
       "<style scoped>\n",
       "    .dataframe tbody tr th:only-of-type {\n",
       "        vertical-align: middle;\n",
       "    }\n",
       "\n",
       "    .dataframe tbody tr th {\n",
       "        vertical-align: top;\n",
       "    }\n",
       "\n",
       "    .dataframe thead th {\n",
       "        text-align: right;\n",
       "    }\n",
       "</style>\n",
       "<table border=\"1\" class=\"dataframe\">\n",
       "  <thead>\n",
       "    <tr style=\"text-align: right;\">\n",
       "      <th></th>\n",
       "      <th>count</th>\n",
       "      <th>percent</th>\n",
       "    </tr>\n",
       "    <tr>\n",
       "      <th>genres</th>\n",
       "      <th></th>\n",
       "      <th></th>\n",
       "    </tr>\n",
       "  </thead>\n",
       "  <tbody>\n",
       "    <tr>\n",
       "      <th>Strategy</th>\n",
       "      <td>234</td>\n",
       "      <td>15.6</td>\n",
       "    </tr>\n",
       "    <tr>\n",
       "      <th>RPG</th>\n",
       "      <td>112</td>\n",
       "      <td>7.5</td>\n",
       "    </tr>\n",
       "    <tr>\n",
       "      <th>Action</th>\n",
       "      <td>97</td>\n",
       "      <td>6.5</td>\n",
       "    </tr>\n",
       "    <tr>\n",
       "      <th>Action||Adventure</th>\n",
       "      <td>83</td>\n",
       "      <td>5.5</td>\n",
       "    </tr>\n",
       "    <tr>\n",
       "      <th>Action||Shooter</th>\n",
       "      <td>68</td>\n",
       "      <td>4.5</td>\n",
       "    </tr>\n",
       "    <tr>\n",
       "      <th>...</th>\n",
       "      <td>...</td>\n",
       "      <td>...</td>\n",
       "    </tr>\n",
       "    <tr>\n",
       "      <th>Adventure||Strategy||Indie</th>\n",
       "      <td>1</td>\n",
       "      <td>0.1</td>\n",
       "    </tr>\n",
       "    <tr>\n",
       "      <th>Action||Adventure||RPG||Indie||Platformer</th>\n",
       "      <td>1</td>\n",
       "      <td>0.1</td>\n",
       "    </tr>\n",
       "    <tr>\n",
       "      <th>Adventure||Family||Indie</th>\n",
       "      <td>1</td>\n",
       "      <td>0.1</td>\n",
       "    </tr>\n",
       "    <tr>\n",
       "      <th>Action||Adventure||RPG||Simulation||Sports||Racing</th>\n",
       "      <td>1</td>\n",
       "      <td>0.1</td>\n",
       "    </tr>\n",
       "    <tr>\n",
       "      <th>Action||Adventure||Strategy||Arcade||Indie</th>\n",
       "      <td>1</td>\n",
       "      <td>0.1</td>\n",
       "    </tr>\n",
       "  </tbody>\n",
       "</table>\n",
       "<p>209 rows × 2 columns</p>\n",
       "</div>"
      ],
      "text/plain": [
       "                                                    count  percent\n",
       "genres                                                            \n",
       "Strategy                                              234     15.6\n",
       "RPG                                                   112      7.5\n",
       "Action                                                 97      6.5\n",
       "Action||Adventure                                      83      5.5\n",
       "Action||Shooter                                        68      4.5\n",
       "...                                                   ...      ...\n",
       "Adventure||Strategy||Indie                              1      0.1\n",
       "Action||Adventure||RPG||Indie||Platformer               1      0.1\n",
       "Adventure||Family||Indie                                1      0.1\n",
       "Action||Adventure||RPG||Simulation||Sports||Racing      1      0.1\n",
       "Action||Adventure||Strategy||Arcade||Indie              1      0.1\n",
       "\n",
       "[209 rows x 2 columns]"
      ]
     },
     "execution_count": 135,
     "metadata": {},
     "output_type": "execute_result"
    }
   ],
   "source": [
    "count = juegos['genres'].value_counts()\n",
    "percent = 100*juegos['genres'].value_counts(normalize=True)\n",
    "pd.DataFrame({'count':count, 'percent':percent.round(1)})"
   ]
  },
  {
   "cell_type": "code",
   "execution_count": 136,
   "metadata": {},
   "outputs": [
    {
     "data": {
      "text/html": [
       "<div>\n",
       "<style scoped>\n",
       "    .dataframe tbody tr th:only-of-type {\n",
       "        vertical-align: middle;\n",
       "    }\n",
       "\n",
       "    .dataframe tbody tr th {\n",
       "        vertical-align: top;\n",
       "    }\n",
       "\n",
       "    .dataframe thead th {\n",
       "        text-align: right;\n",
       "    }\n",
       "</style>\n",
       "<table border=\"1\" class=\"dataframe\">\n",
       "  <thead>\n",
       "    <tr style=\"text-align: right;\">\n",
       "      <th></th>\n",
       "      <th>count</th>\n",
       "      <th>percent</th>\n",
       "    </tr>\n",
       "    <tr>\n",
       "      <th>esrb_rating</th>\n",
       "      <th></th>\n",
       "      <th></th>\n",
       "    </tr>\n",
       "  </thead>\n",
       "  <tbody>\n",
       "    <tr>\n",
       "      <th>Mature</th>\n",
       "      <td>1077</td>\n",
       "      <td>71.8</td>\n",
       "    </tr>\n",
       "    <tr>\n",
       "      <th>Teen</th>\n",
       "      <td>217</td>\n",
       "      <td>14.5</td>\n",
       "    </tr>\n",
       "    <tr>\n",
       "      <th>Everyone</th>\n",
       "      <td>93</td>\n",
       "      <td>6.2</td>\n",
       "    </tr>\n",
       "    <tr>\n",
       "      <th>Everyone 10+</th>\n",
       "      <td>88</td>\n",
       "      <td>5.9</td>\n",
       "    </tr>\n",
       "    <tr>\n",
       "      <th>Adults Only</th>\n",
       "      <td>20</td>\n",
       "      <td>1.3</td>\n",
       "    </tr>\n",
       "    <tr>\n",
       "      <th>Rating Pending</th>\n",
       "      <td>4</td>\n",
       "      <td>0.3</td>\n",
       "    </tr>\n",
       "  </tbody>\n",
       "</table>\n",
       "</div>"
      ],
      "text/plain": [
       "                count  percent\n",
       "esrb_rating                   \n",
       "Mature           1077     71.8\n",
       "Teen              217     14.5\n",
       "Everyone           93      6.2\n",
       "Everyone 10+       88      5.9\n",
       "Adults Only        20      1.3\n",
       "Rating Pending      4      0.3"
      ]
     },
     "execution_count": 136,
     "metadata": {},
     "output_type": "execute_result"
    }
   ],
   "source": [
    "count = juegos['esrb_rating'].value_counts()\n",
    "percent = 100*juegos['esrb_rating'].value_counts(normalize=True)\n",
    "pd.DataFrame({'count':count, 'percent':percent.round(1)})"
   ]
  },
  {
   "cell_type": "code",
   "execution_count": 137,
   "metadata": {},
   "outputs": [],
   "source": [
    "from sklearn.feature_extraction.text import TfidfVectorizer\n",
    "\n",
    "tfidf = TfidfVectorizer(stop_words='english')"
   ]
  },
  {
   "cell_type": "code",
   "execution_count": 138,
   "metadata": {},
   "outputs": [
    {
     "data": {
      "text/plain": [
       "(1499, 21)"
      ]
     },
     "execution_count": 138,
     "metadata": {},
     "output_type": "execute_result"
    }
   ],
   "source": [
    "juegos['genres'] = juegos['genres'].fillna('')\n",
    "tfidf_matrix = tfidf.fit_transform(juegos['genres'])\n",
    "tfidf_matrix.shape"
   ]
  },
  {
   "cell_type": "code",
   "execution_count": 139,
   "metadata": {},
   "outputs": [],
   "source": [
    "from sklearn.metrics.pairwise import linear_kernel\n",
    "\n",
    "cosire_sim = linear_kernel(tfidf_matrix, tfidf_matrix)\n"
   ]
  },
  {
   "cell_type": "code",
   "execution_count": 140,
   "metadata": {},
   "outputs": [],
   "source": [
    "indices = pd.Series(juegos.index,index = juegos['name']).drop_duplicates()"
   ]
  },
  {
   "cell_type": "code",
   "execution_count": 141,
   "metadata": {},
   "outputs": [],
   "source": [
    "def get_Recomendations(name, cosine_sim = cosire_sim):\n",
    "    idx = indices[name]\n",
    "    sim_scores = list(enumerate(cosine_sim[idx]))\n",
    "    sim_scores = sorted(sim_scores, key = lambda x: x[1], reverse=True)\n",
    "\n",
    "    sim_scores = sim_scores[1:11]\n",
    "    juego_indices = [i[0]for i in sim_scores]\n",
    "    return juegos['name'].iloc[juego_indices]\n"
   ]
  },
  {
   "cell_type": "code",
   "execution_count": 142,
   "metadata": {},
   "outputs": [
    {
     "data": {
      "text/plain": [
       "9       METAL GEAR SOLID V: THE DEFINITIVE EXPERIENCE\n",
       "36     Metal Gear Rising: Revengeance - Jetstream Sam\n",
       "42                                 Drill Dozer (2005)\n",
       "43                             Jackie Chan Adventures\n",
       "55                                             Eroico\n",
       "60                            SCP: Containment Breach\n",
       "80          ZONE OF THE ENDERS: The 2nd Runner - M∀RS\n",
       "83                                       Samurai Gunn\n",
       "93                                  Super Bomberman 3\n",
       "106           Shinobi III: Return of the Ninja Master\n",
       "Name: name, dtype: object"
      ]
     },
     "execution_count": 142,
     "metadata": {},
     "output_type": "execute_result"
    }
   ],
   "source": [
    "get_Recomendations('Hide Online')"
   ]
  },
  {
   "cell_type": "code",
   "execution_count": 161,
   "metadata": {},
   "outputs": [
    {
     "data": {
      "text/html": [
       "<div>\n",
       "<style scoped>\n",
       "    .dataframe tbody tr th:only-of-type {\n",
       "        vertical-align: middle;\n",
       "    }\n",
       "\n",
       "    .dataframe tbody tr th {\n",
       "        vertical-align: top;\n",
       "    }\n",
       "\n",
       "    .dataframe thead th {\n",
       "        text-align: right;\n",
       "    }\n",
       "</style>\n",
       "<table border=\"1\" class=\"dataframe\">\n",
       "  <thead>\n",
       "    <tr style=\"text-align: right;\">\n",
       "      <th></th>\n",
       "      <th>platforms</th>\n",
       "      <th>developers</th>\n",
       "      <th>esrb_rating</th>\n",
       "      <th>genres</th>\n",
       "      <th>name</th>\n",
       "    </tr>\n",
       "  </thead>\n",
       "  <tbody>\n",
       "    <tr>\n",
       "      <th>0</th>\n",
       "      <td>xboxone||playstation4||pc</td>\n",
       "      <td>activisionblizzard</td>\n",
       "      <td>mature</td>\n",
       "      <td>action||rpg</td>\n",
       "      <td>diabloiv</td>\n",
       "    </tr>\n",
       "    <tr>\n",
       "      <th>1</th>\n",
       "      <td>ios</td>\n",
       "      <td>squareenix</td>\n",
       "      <td>everyone10+</td>\n",
       "      <td>action||rpg</td>\n",
       "      <td>theworldendswithyou:soloremix</td>\n",
       "    </tr>\n",
       "    <tr>\n",
       "      <th>2</th>\n",
       "      <td>android</td>\n",
       "      <td>hitrockgames</td>\n",
       "      <td>mature</td>\n",
       "      <td>action</td>\n",
       "      <td>hideonline</td>\n",
       "    </tr>\n",
       "    <tr>\n",
       "      <th>3</th>\n",
       "      <td>pc</td>\n",
       "      <td>innocentgrey</td>\n",
       "      <td>adultsonly</td>\n",
       "      <td>adventure</td>\n",
       "      <td>karanoshojo</td>\n",
       "    </tr>\n",
       "    <tr>\n",
       "      <th>4</th>\n",
       "      <td>gameboyadvance</td>\n",
       "      <td>hitmaker||treasure</td>\n",
       "      <td>mature</td>\n",
       "      <td>strategy</td>\n",
       "      <td>astroboy:omegafactor</td>\n",
       "    </tr>\n",
       "  </tbody>\n",
       "</table>\n",
       "</div>"
      ],
      "text/plain": [
       "                   platforms          developers  esrb_rating       genres  \\\n",
       "0  xboxone||playstation4||pc  activisionblizzard       mature  action||rpg   \n",
       "1                        ios          squareenix  everyone10+  action||rpg   \n",
       "2                    android        hitrockgames       mature       action   \n",
       "3                         pc        innocentgrey   adultsonly    adventure   \n",
       "4             gameboyadvance  hitmaker||treasure       mature     strategy   \n",
       "\n",
       "                            name  \n",
       "0                       diabloiv  \n",
       "1  theworldendswithyou:soloremix  \n",
       "2                     hideonline  \n",
       "3                    karanoshojo  \n",
       "4           astroboy:omegafactor  "
      ]
     },
     "execution_count": 161,
     "metadata": {},
     "output_type": "execute_result"
    }
   ],
   "source": [
    "features = ['platforms', 'developers', 'esrb_rating', 'genres', 'name']\n",
    "filters = juegos[features]\n",
    "\n",
    "def clean_data(x):\n",
    "    return str.lower(x.replace(\" \",\"\"))\n",
    "\n",
    "for feature in features:\n",
    "    filters[feature] = filters[feature].apply(clean_data)\n",
    "\n",
    "filters.head()"
   ]
  },
  {
   "cell_type": "code",
   "execution_count": 164,
   "metadata": {},
   "outputs": [],
   "source": [
    "def create_soup(x):\n",
    "    return x['platforms'] + ' ' + x['developers'] + ' ' + x['genres']+ ' ' + x['esrb_rating']\n",
    "\n",
    "filters['soup'] = filters.apply(create_soup, axis = 1)"
   ]
  },
  {
   "cell_type": "code",
   "execution_count": 165,
   "metadata": {},
   "outputs": [],
   "source": [
    "from sklearn.feature_extraction.text import CountVectorizer\n",
    "\n",
    "count =  CountVectorizer(stop_words='english')\n",
    "count_matrix = count.fit_transform(filters['soup'])"
   ]
  },
  {
   "cell_type": "code",
   "execution_count": 166,
   "metadata": {},
   "outputs": [],
   "source": [
    "from sklearn.metrics.pairwise import cosine_similarity\n",
    "\n",
    "cosine_sim2 = cosine_similarity(count_matrix, count_matrix)"
   ]
  },
  {
   "cell_type": "code",
   "execution_count": 167,
   "metadata": {},
   "outputs": [
    {
     "data": {
      "text/html": [
       "<div>\n",
       "<style scoped>\n",
       "    .dataframe tbody tr th:only-of-type {\n",
       "        vertical-align: middle;\n",
       "    }\n",
       "\n",
       "    .dataframe tbody tr th {\n",
       "        vertical-align: top;\n",
       "    }\n",
       "\n",
       "    .dataframe thead th {\n",
       "        text-align: right;\n",
       "    }\n",
       "</style>\n",
       "<table border=\"1\" class=\"dataframe\">\n",
       "  <thead>\n",
       "    <tr style=\"text-align: right;\">\n",
       "      <th></th>\n",
       "      <th>platforms</th>\n",
       "      <th>developers</th>\n",
       "      <th>esrb_rating</th>\n",
       "      <th>genres</th>\n",
       "      <th>name</th>\n",
       "      <th>soup</th>\n",
       "    </tr>\n",
       "  </thead>\n",
       "  <tbody>\n",
       "    <tr>\n",
       "      <th>0</th>\n",
       "      <td>xboxone||playstation4||pc</td>\n",
       "      <td>activisionblizzard</td>\n",
       "      <td>mature</td>\n",
       "      <td>action||rpg</td>\n",
       "      <td>diabloiv</td>\n",
       "      <td>xboxone||playstation4||pc activisionblizzard a...</td>\n",
       "    </tr>\n",
       "    <tr>\n",
       "      <th>1</th>\n",
       "      <td>ios</td>\n",
       "      <td>squareenix</td>\n",
       "      <td>everyone10+</td>\n",
       "      <td>action||rpg</td>\n",
       "      <td>theworldendswithyou:soloremix</td>\n",
       "      <td>ios squareenix action||rpg everyone10+</td>\n",
       "    </tr>\n",
       "    <tr>\n",
       "      <th>2</th>\n",
       "      <td>android</td>\n",
       "      <td>hitrockgames</td>\n",
       "      <td>mature</td>\n",
       "      <td>action</td>\n",
       "      <td>hideonline</td>\n",
       "      <td>android hitrockgames action mature</td>\n",
       "    </tr>\n",
       "    <tr>\n",
       "      <th>3</th>\n",
       "      <td>pc</td>\n",
       "      <td>innocentgrey</td>\n",
       "      <td>adultsonly</td>\n",
       "      <td>adventure</td>\n",
       "      <td>karanoshojo</td>\n",
       "      <td>pc innocentgrey adventure adultsonly</td>\n",
       "    </tr>\n",
       "    <tr>\n",
       "      <th>4</th>\n",
       "      <td>gameboyadvance</td>\n",
       "      <td>hitmaker||treasure</td>\n",
       "      <td>mature</td>\n",
       "      <td>strategy</td>\n",
       "      <td>astroboy:omegafactor</td>\n",
       "      <td>gameboyadvance hitmaker||treasure strategy mature</td>\n",
       "    </tr>\n",
       "  </tbody>\n",
       "</table>\n",
       "</div>"
      ],
      "text/plain": [
       "                   platforms          developers  esrb_rating       genres  \\\n",
       "0  xboxone||playstation4||pc  activisionblizzard       mature  action||rpg   \n",
       "1                        ios          squareenix  everyone10+  action||rpg   \n",
       "2                    android        hitrockgames       mature       action   \n",
       "3                         pc        innocentgrey   adultsonly    adventure   \n",
       "4             gameboyadvance  hitmaker||treasure       mature     strategy   \n",
       "\n",
       "                            name  \\\n",
       "0                       diabloiv   \n",
       "1  theworldendswithyou:soloremix   \n",
       "2                     hideonline   \n",
       "3                    karanoshojo   \n",
       "4           astroboy:omegafactor   \n",
       "\n",
       "                                                soup  \n",
       "0  xboxone||playstation4||pc activisionblizzard a...  \n",
       "1             ios squareenix action||rpg everyone10+  \n",
       "2                 android hitrockgames action mature  \n",
       "3               pc innocentgrey adventure adultsonly  \n",
       "4  gameboyadvance hitmaker||treasure strategy mature  "
      ]
     },
     "execution_count": 167,
     "metadata": {},
     "output_type": "execute_result"
    }
   ],
   "source": [
    "filters.head()"
   ]
  },
  {
   "cell_type": "code",
   "execution_count": 168,
   "metadata": {},
   "outputs": [],
   "source": [
    "filters = filters.reset_index()\n",
    "indices = pd.Series(filters.index, index=filters['name'])"
   ]
  },
  {
   "cell_type": "code",
   "execution_count": 169,
   "metadata": {},
   "outputs": [],
   "source": [
    "def get_better_Recomendations(name, cosine_sim = cosire_sim):\n",
    "    name = name.replace(' ', '').lower()\n",
    "    idx = indices[name]\n",
    "    sim_scores = list(enumerate(cosine_sim[idx]))\n",
    "    sim_scores= sorted(sim_scores, key=lambda x: x[1], reverse= True)\n",
    "    sim_scores = sim_scores[1:11]\n",
    "    game_indices = [i[0] for i in sim_scores]\n",
    "    return juegos['name'].iloc[game_indices]"
   ]
  },
  {
   "cell_type": "code",
   "execution_count": 177,
   "metadata": {},
   "outputs": [
    {
     "data": {
      "text/plain": [
       "570     The Legend of Zelda: Link's Awakening (2019)\n",
       "432                                         Pikmin 3\n",
       "126        The Legend of Zelda: Twilight Princess HD\n",
       "504         The Legend of Zelda: Collector's Edition\n",
       "666                             Super Mario 3D World\n",
       "1319                                      Splatoon 2\n",
       "426             The Legend of Zelda: Ocarina of Time\n",
       "197          The Legend of Zelda: Ocarina of Time 3D\n",
       "344                            Metroid: Zero Mission\n",
       "823                               Ring Fit Adventure\n",
       "Name: name, dtype: object"
      ]
     },
     "execution_count": 177,
     "metadata": {},
     "output_type": "execute_result"
    }
   ],
   "source": [
    "get_better_Recomendations('The Legend of Zelda: Breath of the Wild', cosine_sim2)"
   ]
  }
 ],
 "metadata": {
  "kernelspec": {
   "display_name": "Python 3",
   "language": "python",
   "name": "python3"
  },
  "language_info": {
   "codemirror_mode": {
    "name": "ipython",
    "version": 3
   },
   "file_extension": ".py",
   "mimetype": "text/x-python",
   "name": "python",
   "nbconvert_exporter": "python",
   "pygments_lexer": "ipython3",
   "version": "3.12.0"
  }
 },
 "nbformat": 4,
 "nbformat_minor": 2
}
